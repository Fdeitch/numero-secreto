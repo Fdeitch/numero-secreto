{
 "cells": [
  {
   "cell_type": "code",
   "execution_count": null,
   "metadata": {},
   "outputs": [],
   "source": [
    "class DidaticaTech:\n",
    "    def __init__(self, v: int, i: int):\n",
    "        self.n1 = v\n",
    "        self.n2 = i\n",
    "    def soma(self):\n",
    "        self.n1 += self.n2\n",
    "    def subtração(self):\n",
    "        self.n1 -= self.n2\n",
    "    def divisão(self):\n",
    "        self.n1 /= self.n2\n",
    "    def multiplicação(self):\n",
    "        self.n1 *= self.n2\n",
    "    def exponenciação(self, e):\n",
    "        self.n1 **= e"
   ]
  },
  {
   "cell_type": "code",
   "execution_count": null,
   "metadata": {},
   "outputs": [
    {
     "data": {
      "text/plain": [
       "360"
      ]
     },
     "execution_count": 21,
     "metadata": {},
     "output_type": "execute_result"
    }
   ],
   "source": [
    "a = DidaticaTech(45, 8)\n",
    "a.multiplicação()\n",
    "a.n1"
   ]
  },
  {
   "cell_type": "code",
   "execution_count": null,
   "metadata": {},
   "outputs": [
    {
     "data": {
      "text/plain": [
       "3.7777777777777777"
      ]
     },
     "execution_count": 22,
     "metadata": {},
     "output_type": "execute_result"
    }
   ],
   "source": [
    "b = DidaticaTech(34, 9)\n",
    "b.divisão()\n",
    "b.n1"
   ]
  }
 ],
 "metadata": {
  "kernelspec": {
   "display_name": "Python 3",
   "language": "python",
   "name": "python3"
  },
  "language_info": {
   "codemirror_mode": {
    "name": "ipython",
    "version": 3
   },
   "file_extension": ".py",
   "mimetype": "text/x-python",
   "name": "python",
   "nbconvert_exporter": "python",
   "pygments_lexer": "ipython3",
   "version": "3.10.6"
  },
  "orig_nbformat": 4
 },
 "nbformat": 4,
 "nbformat_minor": 2
}
